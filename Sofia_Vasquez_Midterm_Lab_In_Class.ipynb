{
  "nbformat": 4,
  "nbformat_minor": 0,
  "metadata": {
    "colab": {
      "provenance": [],
      "authorship_tag": "ABX9TyO31fnxWwFJjCp/895QuGqI",
      "include_colab_link": true
    },
    "kernelspec": {
      "name": "python3",
      "display_name": "Python 3"
    },
    "language_info": {
      "name": "python"
    }
  },
  "cells": [
    {
      "cell_type": "markdown",
      "metadata": {
        "id": "view-in-github",
        "colab_type": "text"
      },
      "source": [
        "<a href=\"https://colab.research.google.com/github/sofiavasqq/Vasquez_Labs/blob/main/Sofia_Vasquez_Midterm_Lab_In_Class.ipynb\" target=\"_parent\"><img src=\"https://colab.research.google.com/assets/colab-badge.svg\" alt=\"Open In Colab\"/></a>"
      ]
    },
    {
      "cell_type": "code",
      "source": [
        "import numpy as np\n",
        "import matplotlib.pyplot as plt #the foundation"
      ],
      "metadata": {
        "id": "Ibm7BxKXRGxD"
      },
      "execution_count": 15,
      "outputs": []
    },
    {
      "cell_type": "code",
      "execution_count": 16,
      "metadata": {
        "id": "hnDi_R4nQzXg"
      },
      "outputs": [],
      "source": [
        "X = np.array([12,9,20,7,2])    # <- Put your numbers here  Diameter\n",
        "Y = np.array([38,28,63,22,6])  #                           Circumference"
      ]
    },
    {
      "cell_type": "code",
      "source": [
        "plt.plot(D,C,'g.') #tells us to plot d and c and make it a green dotted graph"
      ],
      "metadata": {
        "colab": {
          "base_uri": "https://localhost:8080/",
          "height": 282
        },
        "id": "WVbPMLVtRGJc",
        "outputId": "b331b9ff-7aad-4124-f31f-547958ce4624"
      },
      "execution_count": 17,
      "outputs": [
        {
          "output_type": "execute_result",
          "data": {
            "text/plain": [
              "[<matplotlib.lines.Line2D at 0x7f2301386510>]"
            ]
          },
          "metadata": {},
          "execution_count": 17
        },
        {
          "output_type": "display_data",
          "data": {
            "text/plain": [
              "<Figure size 432x288 with 1 Axes>"
            ],
            "image/png": "[encoded data removed]"
          },
          "metadata": {
            "needs_background": "light"
          }
        }
      ]
    },
    {
      "cell_type": "code",
      "source": [
        "m_guess = 0\n",
        "b_guess = 0 #this tells the system that we do not knwo what m or b is yet"
      ],
      "metadata": {
        "id": "eBpSDrRcRbp8"
      },
      "execution_count": 18,
      "outputs": []
    },
    {
      "cell_type": "markdown",
      "source": [
        "$y=mx+b$ (the basic slope formula equation)"
      ],
      "metadata": {
        "id": "NZ-pBr9FSxid"
      }
    },
    {
      "cell_type": "code",
      "source": [
        "m_guess * X + b_guess #creates a new system of numbers"
      ],
      "metadata": {
        "colab": {
          "base_uri": "https://localhost:8080/"
        },
        "id": "WkP6cbHpSLv9",
        "outputId": "8f245601-a5a6-4541-906e-965825919d78"
      },
      "execution_count": 26,
      "outputs": [
        {
          "output_type": "execute_result",
          "data": {
            "text/plain": [
              "array([0, 0, 0, 0, 0])"
            ]
          },
          "metadata": {},
          "execution_count": 26
        }
      ]
    },
    {
      "cell_type": "code",
      "source": [
        "y_guess = m_guess * X + b_guess #trying to see how well our model fit our data"
      ],
      "metadata": {
        "id": "jXPdWzaCSO2N"
      },
      "execution_count": 27,
      "outputs": []
    },
    {
      "cell_type": "code",
      "source": [
        "y_guess - Y #what this does is subtracts the value we gave the system to the line of best fit that the system made"
      ],
      "metadata": {
        "colab": {
          "base_uri": "https://localhost:8080/"
        },
        "id": "KnNPO0_UTaPt",
        "outputId": "92a3e556-a51b-41d4-82b7-29b9bed01aa8"
      },
      "execution_count": 28,
      "outputs": [
        {
          "output_type": "execute_result",
          "data": {
            "text/plain": [
              "array([-38, -28, -63, -22,  -6])"
            ]
          },
          "metadata": {},
          "execution_count": 28
        }
      ]
    },
    {
      "cell_type": "code",
      "source": [
        "(y_guess - Y)**2 #squaring it so our negative numbers into postives aka getting rid of the negatives"
      ],
      "metadata": {
        "colab": {
          "base_uri": "https://localhost:8080/"
        },
        "id": "fUYF8FBmTpq9",
        "outputId": "560b0bfe-d793-4dfc-c381-aad735acc52c"
      },
      "execution_count": 29,
      "outputs": [
        {
          "output_type": "execute_result",
          "data": {
            "text/plain": [
              "array([1444,  784, 3969,  484,   36])"
            ]
          },
          "metadata": {},
          "execution_count": 29
        }
      ]
    },
    {
      "cell_type": "code",
      "source": [
        "np.sum((y_guess - Y)**2)"
      ],
      "metadata": {
        "colab": {
          "base_uri": "https://localhost:8080/"
        },
        "id": "8eKvXRHKUY1e",
        "outputId": "491bcc71-dbb8-4872-c1ce-dfa703345cf0"
      },
      "execution_count": 31,
      "outputs": [
        {
          "output_type": "execute_result",
          "data": {
            "text/plain": [
              "6717"
            ]
          },
          "metadata": {},
          "execution_count": 31
        }
      ]
    },
    {
      "cell_type": "code",
      "source": [
        "loss = np.sum((y_guess - Y)**2)"
      ],
      "metadata": {
        "id": "QSx14DVCUxLu"
      },
      "execution_count": 32,
      "outputs": []
    },
    {
      "cell_type": "code",
      "source": [
        "best_loss_so_far = 1000000000000 #finds the smallest loss out of all the possibilities\n",
        "m_best = 0 \n",
        "b_best = 0 \n",
        "for m_guess in np.linspace(-100,100,100):\n",
        "    for b_guess in np.linspace(-100,100,100):\n",
        "        \n",
        "        y_guess = m_guess * X + b_guess  #the system will nowtry to guess y using a number of posibilities from m and b by comparing it to the model\n",
        "\n",
        "        loss = np.sum((y_guess - Y)**2)\n",
        "\n",
        "        if loss < best_loss_so_far: #if the loss is better than anything we have seen so far the system will now replace it \n",
        "            m_best = m_guess\n",
        "            b_best = b_guess\n",
        "            best_loss_so_far = loss\n",
        "\n",
        "print(\"Found best fit:\")\n",
        "print(m_best,b_best,loss) #now we know that we have a slope of 3, y intercept of 1 and the loss is 7378517\n",
        "#we can now guess the circumference of the circle using the slope becuase this tells us the relationship between the diameter and the circumference"
      ],
      "metadata": {
        "colab": {
          "base_uri": "https://localhost:8080/"
        },
        "id": "usU1hwErbiVM",
        "outputId": "add5e0ab-5c9d-426d-a67b-da1c27372672"
      },
      "execution_count": 53,
      "outputs": [
        {
          "output_type": "stream",
          "name": "stdout",
          "text": [
            "Found best fit:\n",
            "3.030303030303031 1.0101010101010104 7378517.0\n"
          ]
        }
      ]
    },
    {
      "cell_type": "markdown",
      "source": [
        "$C = (3.14) * diameter$"
      ],
      "metadata": {
        "id": "utdkNTGRdHj2"
      }
    },
    {
      "cell_type": "code",
      "source": [],
      "metadata": {
        "id": "atlre04GdS_-"
      },
      "execution_count": null,
      "outputs": []
    }
  ]
}