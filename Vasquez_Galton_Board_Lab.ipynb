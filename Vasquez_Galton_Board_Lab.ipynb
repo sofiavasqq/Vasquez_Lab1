{
  "nbformat": 4,
  "nbformat_minor": 0,
  "metadata": {
    "colab": {
      "provenance": [],
      "include_colab_link": true
    },
    "kernelspec": {
      "name": "python3",
      "display_name": "Python 3"
    }
  },
  "cells": [
    {
      "cell_type": "markdown",
      "metadata": {
        "id": "view-in-github",
        "colab_type": "text"
      },
      "source": [
        "<a href=\"https://colab.research.google.com/github/sofiavasqq/Vasquez_Labs/blob/main/Vasquez_Galton_Board_Lab.ipynb\" target=\"_parent\"><img src=\"https://colab.research.google.com/assets/colab-badge.svg\" alt=\"Open In Colab\"/></a>"
      ]
    },
    {
      "cell_type": "markdown",
      "source": [
        "#Galton Board Lab 10/6/22"
      ],
      "metadata": {
        "id": "F7Kkw511nL1F"
      }
    },
    {
      "metadata": {
        "id": "JiZpI9wDbh75"
      },
      "cell_type": "markdown",
      "source": [
        "![alt text](https://www.physlab.org/wp-content/uploads/2016/03/Galton_Board_5.jpeg)"
      ]
    },
    {
      "cell_type": "markdown",
      "source": [
        "# 1) Watch this Video\n",
        "https://www.youtube.com/watch?v=SZoDNfVFS7I"
      ],
      "metadata": {
        "id": "2eOkTpKYllrA"
      }
    },
    {
      "cell_type": "markdown",
      "source": [
        "# 2) Run this Demo\n",
        "## Change all the settings and watch what happens\n",
        "https://www.mathsisfun.com/data/quincunx.html"
      ],
      "metadata": {
        "id": "MAckRKG5mjp0"
      }
    },
    {
      "cell_type": "markdown",
      "source": [
        "# 3) Comment ALL of the code below. Explain each step in as much detail as possible. Add code cells to show intermediate steps. "
      ],
      "metadata": {
        "id": "1K6v21JflpGY"
      }
    },
    {
      "cell_type": "code",
      "source": [
        "import numpy as np\n",
        "import matplotlib.pyplot as plt #the blueprint"
      ],
      "metadata": {
        "id": "CpvjnOHwfu4g"
      },
      "execution_count": 1,
      "outputs": []
    },
    {
      "cell_type": "code",
      "source": [
        "def coin():\n",
        "    return 2*(np.random.random() > 0.5) - 1 #"
      ],
      "metadata": {
        "id": "3DKoK_RLfvmu"
      },
      "execution_count": 4,
      "outputs": []
    },
    {
      "cell_type": "code",
      "source": [
        "coin() #coin tossing function"
      ],
      "metadata": {
        "id": "upVKpqKamKIO",
        "colab": {
          "base_uri": "https://localhost:8080/"
        },
        "outputId": "ec6dec6a-38d4-42b0-c51b-ac522df17fe4"
      },
      "execution_count": 12,
      "outputs": [
        {
          "output_type": "execute_result",
          "data": {
            "text/plain": [
              "-1"
            ]
          },
          "metadata": {},
          "execution_count": 12
        }
      ]
    },
    {
      "cell_type": "code",
      "source": [
        "x = 0\n",
        "x + coin()"
      ],
      "metadata": {
        "colab": {
          "base_uri": "https://localhost:8080/"
        },
        "id": "_Tpo3k_Rfvkm",
        "outputId": "e707ce7e-bc7f-41f6-f84c-47204d6b961f"
      },
      "execution_count": 13,
      "outputs": [
        {
          "output_type": "execute_result",
          "data": {
            "text/plain": [
              "1"
            ]
          },
          "metadata": {},
          "execution_count": 13
        }
      ]
    },
    {
      "cell_type": "code",
      "source": [
        "x = 0\n",
        "\n",
        "for i in range(3): #list a series of numbers from 0-3\n",
        "    x = x + coin()"
      ],
      "metadata": {
        "id": "bQ3khwo8nSC5"
      },
      "execution_count": 14,
      "outputs": []
    },
    {
      "cell_type": "code",
      "source": [
        "x #will now generate a number"
      ],
      "metadata": {
        "id": "d7ABUR99nT6X",
        "colab": {
          "base_uri": "https://localhost:8080/"
        },
        "outputId": "c078aa86-113a-4e85-9c88-d24df03e0049"
      },
      "execution_count": 27,
      "outputs": [
        {
          "output_type": "execute_result",
          "data": {
            "text/plain": [
              "-1"
            ]
          },
          "metadata": {},
          "execution_count": 27
        }
      ]
    },
    {
      "cell_type": "code",
      "source": [
        "x = 0\n",
        "\n",
        "for i in range(100): #will generate a series of numbers from 0-100\n",
        "    x = x + coin()"
      ],
      "metadata": {
        "id": "NFy-Myfefvq5"
      },
      "execution_count": 39,
      "outputs": []
    },
    {
      "cell_type": "code",
      "source": [
        "x #will now generate a random number"
      ],
      "metadata": {
        "colab": {
          "base_uri": "https://localhost:8080/"
        },
        "id": "sdOlgTxFfvs3",
        "outputId": "fd6577c4-2a4b-4885-9f6e-3765090dd73d"
      },
      "execution_count": 40,
      "outputs": [
        {
          "output_type": "execute_result",
          "data": {
            "text/plain": [
              "-12"
            ]
          },
          "metadata": {},
          "execution_count": 40
        }
      ]
    },
    {
      "cell_type": "code",
      "source": [
        "M = 10000 #a variable\n",
        "N = 100 #another variable\n",
        "\n",
        "X = np.zeros(M,)\n",
        "\n",
        "for j in range(M):\n",
        "\n",
        "    x = 0\n",
        "\n",
        "    for i in range(N):\n",
        "        x = x + coin()\n",
        "\n",
        "    X[j] = x"
      ],
      "metadata": {
        "id": "uLXLzA03gabE"
      },
      "execution_count": 41,
      "outputs": []
    },
    {
      "cell_type": "code",
      "source": [
        "plt.hist(X,100); #will plot a histogram based on the data given above"
      ],
      "metadata": {
        "colab": {
          "base_uri": "https://localhost:8080/",
          "height": 265
        },
        "id": "twqazgNcgOm1",
        "outputId": "0a60480e-e88b-4ece-ae1a-fedc83e8ead0"
      },
      "execution_count": 43,
      "outputs": [
        {
          "output_type": "display_data",
          "data": {
            "text/plain": [
              "<Figure size 432x288 with 1 Axes>"
            ],
            "image/png": "[encoded data removed]"
          },
          "metadata": {
            "needs_background": "light"
          }
        }
      ]
    },
    {
      "cell_type": "code",
      "source": [],
      "metadata": {
        "id": "GCuchUhdtdh6"
      },
      "execution_count": null,
      "outputs": []
    },
    {
      "cell_type": "markdown",
      "source": [
        "# Bonus: Explain Pascal's Triangle"
      ],
      "metadata": {
        "id": "SJ_lgmvntUhi"
      }
    },
    {
      "cell_type": "code",
      "source": [
        "P = np.zeros((12,18))\n",
        "\n",
        "P[0,5]=1\n",
        "\n",
        "for i in range(1,P.shape[0]):\n",
        "\n",
        "    for j in range(1,P.shape[1]-1):\n",
        "\n",
        "        P[i,j] = P[i-1,j-1]+P[i-1,j]\n",
        "\n",
        "print(P[:,5:])"
      ],
      "metadata": {
        "id": "ksVd5iqgfvu-",
        "colab": {
          "base_uri": "https://localhost:8080/"
        },
        "outputId": "075c0b10-acf7-4d77-8308-7baf793a736b"
      },
      "execution_count": 44,
      "outputs": [
        {
          "output_type": "stream",
          "name": "stdout",
          "text": [
            "[[  1.   0.   0.   0.   0.   0.   0.   0.   0.   0.   0.   0.   0.]\n",
            " [  1.   1.   0.   0.   0.   0.   0.   0.   0.   0.   0.   0.   0.]\n",
            " [  1.   2.   1.   0.   0.   0.   0.   0.   0.   0.   0.   0.   0.]\n",
            " [  1.   3.   3.   1.   0.   0.   0.   0.   0.   0.   0.   0.   0.]\n",
            " [  1.   4.   6.   4.   1.   0.   0.   0.   0.   0.   0.   0.   0.]\n",
            " [  1.   5.  10.  10.   5.   1.   0.   0.   0.   0.   0.   0.   0.]\n",
            " [  1.   6.  15.  20.  15.   6.   1.   0.   0.   0.   0.   0.   0.]\n",
            " [  1.   7.  21.  35.  35.  21.   7.   1.   0.   0.   0.   0.   0.]\n",
            " [  1.   8.  28.  56.  70.  56.  28.   8.   1.   0.   0.   0.   0.]\n",
            " [  1.   9.  36.  84. 126. 126.  84.  36.   9.   1.   0.   0.   0.]\n",
            " [  1.  10.  45. 120. 210. 252. 210. 120.  45.  10.   1.   0.   0.]\n",
            " [  1.  11.  55. 165. 330. 462. 462. 330. 165.  55.  11.   1.   0.]]\n"
          ]
        }
      ]
    },
    {
      "cell_type": "markdown",
      "source": [
        "\"Pascal's triangle is the triangular array of numbers that begins with 1 on the top and with 1's running down the two sides of a triangle. Each new number lies between two numbers and below them, and its value is the sum of the two numbers above it.\""
      ],
      "metadata": {
        "id": "D51Hoi-_5bBS"
      }
    }
  ]
}