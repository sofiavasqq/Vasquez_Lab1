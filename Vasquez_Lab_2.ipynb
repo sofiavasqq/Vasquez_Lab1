{
  "nbformat": 4,
  "nbformat_minor": 0,
  "metadata": {
    "colab": {
      "provenance": [],
      "authorship_tag": "ABX9TyN99GUauC9647V+MiBg6ec8",
      "include_colab_link": true
    },
    "kernelspec": {
      "name": "python3",
      "display_name": "Python 3"
    },
    "language_info": {
      "name": "python"
    }
  },
  "cells": [
    {
      "cell_type": "markdown",
      "metadata": {
        "id": "view-in-github",
        "colab_type": "text"
      },
      "source": [
        "<a href=\"https://colab.research.google.com/github/sofiavasqq/Vasquez_Labs/blob/main/Vasquez_Lab_2.ipynb\" target=\"_parent\"><img src=\"https://colab.research.google.com/assets/colab-badge.svg\" alt=\"Open In Colab\"/></a>"
      ]
    },
    {
      "cell_type": "markdown",
      "source": [
        "#Lab #2 Notebook"
      ],
      "metadata": {
        "id": "fLnfiqx8yGAm"
      }
    },
    {
      "cell_type": "markdown",
      "source": [
        "#Making Pie Charts"
      ],
      "metadata": {
        "id": "4Gr_m0Ra1TNU"
      }
    },
    {
      "cell_type": "code",
      "source": [
        "import matplotlib.pyplot as plt\n",
        "\n",
        "labels = ['Frogs', 'Dogs', 'Cats', 'Birds'] #controls what each part of the chart is labeled\n",
        "\n",
        "sizes= [15,30,45,10] #controls how large the percent of each label is in the graph\n",
        "\n",
        "explode=(0,0.1,0,0) #controls how far apart you want to the chart to be(0 being the closest)\n",
        "\n",
        "fig1,ax1 = plt.subplots()\n",
        "ax1.pie(sizes,\n",
        "        explode=explode, \n",
        "        labels =labels, \n",
        "        autopct='%1.1f%%',\n",
        "        shadow=True,   #controls if you want a shadow or not\n",
        "        startangle=90)\n",
        "ax1.axis('equal')"
      ],
      "metadata": {
        "colab": {
          "base_uri": "https://localhost:8080/",
          "height": 317
        },
        "id": "YSM3kTo11emt",
        "outputId": "53a4781e-5b8a-4bf0-d4bd-8dba849d8567"
      },
      "execution_count": null,
      "outputs": [
        {
          "output_type": "execute_result",
          "data": {
            "text/plain": [
              "(-1.2142507666786346,\n",
              " 1.134711077927507,\n",
              " -1.1258468317413044,\n",
              " 1.101230806657754)"
            ]
          },
          "metadata": {},
          "execution_count": 48
        },
        {
          "output_type": "display_data",
          "data": {
            "text/plain": [
              "<Figure size 432x288 with 1 Axes>"
            ],
            "image/png": "[encoded data removed]"
          },
          "metadata": {}
        }
      ]
    },
    {
      "cell_type": "code",
      "source": [
        "import matplotlib.pyplot as plt\n",
        "\n",
        "labels = ['Pitbulls', 'Golden Retrivers', 'Pugs', 'Cockerspaniels']\n",
        "\n",
        "sizes= [25,25,25,25]\n",
        "\n",
        "explode=(0,1,2,3) \n",
        "\n",
        "fig1,ax1 = plt.subplots()\n",
        "ax1.pie(sizes,\n",
        "        explode=explode, \n",
        "        labels =labels, \n",
        "        autopct='%1.1f%%',\n",
        "        shadow=False,\n",
        "        startangle=90)\n",
        "ax1.axis('equal')"
      ],
      "metadata": {
        "colab": {
          "base_uri": "https://localhost:8080/",
          "height": 317
        },
        "id": "NfgAtwUi2Pq8",
        "outputId": "b61634df-fc66-4cb4-ca89-36a9ebe3b65f"
      },
      "execution_count": null,
      "outputs": [
        {
          "output_type": "execute_result",
          "data": {
            "text/plain": [
              "(-1.9485281374238572,\n",
              " 3.3627416997969526,\n",
              " -2.6909902576697324,\n",
              " 3.398097038856279)"
            ]
          },
          "metadata": {},
          "execution_count": 49
        },
        {
          "output_type": "display_data",
          "data": {
            "text/plain": [
              "<Figure size 432x288 with 1 Axes>"
            ],
            "image/png": "[encoded data removed]"
          },
          "metadata": {}
        }
      ]
    },
    {
      "cell_type": "markdown",
      "source": [
        "#Making f Strings"
      ],
      "metadata": {
        "id": "j7MhZWmz5KfK"
      }
    },
    {
      "cell_type": "code",
      "source": [
        "name= 'Sofia'"
      ],
      "metadata": {
        "id": "wm4BTyb65LtC"
      },
      "execution_count": null,
      "outputs": []
    },
    {
      "cell_type": "code",
      "source": [
        "name"
      ],
      "metadata": {
        "colab": {
          "base_uri": "https://localhost:8080/",
          "height": 35
        },
        "id": "GQaaB3805Nqz",
        "outputId": "d1074091-a4c5-485b-ab88-10a6aded3873"
      },
      "execution_count": null,
      "outputs": [
        {
          "output_type": "execute_result",
          "data": {
            "text/plain": [
              "'Sofia'"
            ],
            "application/vnd.google.colaboratory.intrinsic+json": {
              "type": "string"
            }
          },
          "metadata": {},
          "execution_count": 51
        }
      ]
    },
    {
      "cell_type": "code",
      "source": [
        "f\"Hello my name is {name}\""
      ],
      "metadata": {
        "colab": {
          "base_uri": "https://localhost:8080/",
          "height": 35
        },
        "id": "s9QCbDeW5OAy",
        "outputId": "3fd4e5d9-300f-421c-e7f1-c9d1a9756c00"
      },
      "execution_count": null,
      "outputs": [
        {
          "output_type": "execute_result",
          "data": {
            "text/plain": [
              "'Hello my name is Sofia'"
            ],
            "application/vnd.google.colaboratory.intrinsic+json": {
              "type": "string"
            }
          },
          "metadata": {},
          "execution_count": 52
        }
      ]
    },
    {
      "cell_type": "markdown",
      "source": [
        "#Files"
      ],
      "metadata": {
        "id": "zQkdHaUt5YBS"
      }
    },
    {
      "cell_type": "code",
      "source": [
        "f = open(\"Hello.txt\",'w') \n",
        "\n",
        "data= \"Hello World\" #the text put in between the \"\" is what will be put into the doc\n",
        "\n",
        "print(data, file = f) \n",
        "\n",
        "f.close()  #after running the command, the file will appear in the folder icon in the upper left hand corner"
      ],
      "metadata": {
        "id": "abtsKNsk5nyx"
      },
      "execution_count": null,
      "outputs": []
    },
    {
      "cell_type": "code",
      "source": [
        "f = open(\"Hello.txt\",'w')\n",
        "\n",
        "name= \"Sofia\"\n",
        "\n",
        "data= f\"Hello{name}\" \n",
        "\n",
        "print(data, file = f)\n",
        "\n",
        "f.close()"
      ],
      "metadata": {
        "id": "zrEXYHAF6UkC"
      },
      "execution_count": null,
      "outputs": []
    },
    {
      "cell_type": "code",
      "source": [
        "f = open(\"Hello.txt\", 'r')\n",
        "\n",
        "lines= f.readlines()\n",
        "\n",
        "print(lines)\n",
        "\n",
        "f.close()"
      ],
      "metadata": {
        "colab": {
          "base_uri": "https://localhost:8080/"
        },
        "id": "1JJVv2rQ7Tua",
        "outputId": "7a20697d-23de-4214-d131-ada7e3d7fb38"
      },
      "execution_count": null,
      "outputs": [
        {
          "output_type": "stream",
          "name": "stdout",
          "text": [
            "['HelloSofia\\n']\n"
          ]
        }
      ]
    },
    {
      "cell_type": "markdown",
      "source": [
        "#Making a Coin Flipping System"
      ],
      "metadata": {
        "id": "_uDXdwrL8RD0"
      }
    },
    {
      "cell_type": "code",
      "source": [
        "import numpy as np"
      ],
      "metadata": {
        "id": "Ds6Tfnqs8TFD"
      },
      "execution_count": null,
      "outputs": []
    },
    {
      "cell_type": "code",
      "source": [
        "np.random.random() #a branch of codes that makes up a number between 0-1"
      ],
      "metadata": {
        "colab": {
          "base_uri": "https://localhost:8080/"
        },
        "id": "lO9vzgBF8Xaj",
        "outputId": "d5162d5b-3003-4536-baf9-90e25d3ed68c"
      },
      "execution_count": null,
      "outputs": [
        {
          "output_type": "execute_result",
          "data": {
            "text/plain": [
              "0.4508144977279872"
            ]
          },
          "metadata": {},
          "execution_count": 57
        }
      ]
    },
    {
      "cell_type": "code",
      "source": [
        "np.random.randint(6) #gives us any whole number >6"
      ],
      "metadata": {
        "colab": {
          "base_uri": "https://localhost:8080/"
        },
        "id": "pC51UNHY64Ly",
        "outputId": "9f28dd83-f94c-4ae8-8859-dc2c0ceca177"
      },
      "execution_count": null,
      "outputs": [
        {
          "output_type": "execute_result",
          "data": {
            "text/plain": [
              "3"
            ]
          },
          "metadata": {},
          "execution_count": 58
        }
      ]
    },
    {
      "cell_type": "code",
      "source": [
        "def coin():\n",
        "    return np.randint(2)"
      ],
      "metadata": {
        "id": "WBljBvU79mgF"
      },
      "execution_count": null,
      "outputs": []
    },
    {
      "cell_type": "code",
      "source": [
        "for i in range(10):\n",
        "    print(np.random.randint(6))"
      ],
      "metadata": {
        "colab": {
          "base_uri": "https://localhost:8080/"
        },
        "id": "ChGABu7N69_M",
        "outputId": "76775a84-a7a4-45f9-fc38-0e46f679de34"
      },
      "execution_count": null,
      "outputs": [
        {
          "output_type": "stream",
          "name": "stdout",
          "text": [
            "5\n",
            "0\n",
            "2\n",
            "2\n",
            "1\n",
            "4\n",
            "5\n",
            "2\n",
            "1\n",
            "4\n"
          ]
        }
      ]
    },
    {
      "cell_type": "code",
      "source": [
        "for index in range(10): print(index,np.random.random())"
      ],
      "metadata": {
        "colab": {
          "base_uri": "https://localhost:8080/"
        },
        "id": "IpKOhsAW8bdj",
        "outputId": "7c6ca70c-c6b1-455a-f00c-7eaa9a26b2cd"
      },
      "execution_count": null,
      "outputs": [
        {
          "output_type": "stream",
          "name": "stdout",
          "text": [
            "0 0.9593094498296455\n",
            "1 0.2697058876845764\n",
            "2 0.08345279549041107\n",
            "3 0.8864332597602382\n",
            "4 0.048478753962772014\n",
            "5 0.5964707128521493\n",
            "6 0.43805959748771883\n",
            "7 0.6288731166123588\n",
            "8 0.12687122485534263\n",
            "9 0.5271240230613716\n"
          ]
        }
      ]
    },
    {
      "cell_type": "code",
      "source": [
        "for index in range(100): print(index,np.random.random())"
      ],
      "metadata": {
        "colab": {
          "base_uri": "https://localhost:8080/"
        },
        "id": "8SYbNsv18yjl",
        "outputId": "b15fd07c-f8f0-4254-c06b-a0863491e7dd"
      },
      "execution_count": null,
      "outputs": [
        {
          "output_type": "stream",
          "name": "stdout",
          "text": [
            "0 0.47140928411142846\n",
            "1 0.018018136724746614\n",
            "2 0.8068955166312031\n",
            "3 0.3011274846453095\n",
            "4 0.8441571360079125\n",
            "5 0.27165952342541655\n",
            "6 0.9752675556114989\n",
            "7 0.6611162803691523\n",
            "8 0.5249150622370458\n",
            "9 0.29721733535964734\n",
            "10 0.3829208483371215\n",
            "11 0.16972058045404748\n",
            "12 0.24909284642651663\n",
            "13 0.8471251620099014\n",
            "14 0.8424274759521189\n",
            "15 0.6379520700123141\n",
            "16 0.6223086134533763\n",
            "17 0.4737017172969932\n",
            "18 0.18833578345903002\n",
            "19 0.9153453974313019\n",
            "20 0.42421691178688514\n",
            "21 0.21883310434830627\n",
            "22 0.17103380976254334\n",
            "23 0.9394001686567727\n",
            "24 0.12149624437671147\n",
            "25 0.0027921204964382884\n",
            "26 0.442958825350411\n",
            "27 0.5844961051145122\n",
            "28 0.5834021491428956\n",
            "29 0.16250766010461326\n",
            "30 0.3064468880436948\n",
            "31 0.2926912545209627\n",
            "32 0.7186344070406608\n",
            "33 0.8828473004724675\n",
            "34 0.011724609856580082\n",
            "35 0.4461757675784356\n",
            "36 0.48256788448296983\n",
            "37 0.8339582954677631\n",
            "38 0.04856404726133279\n",
            "39 0.16772542454629435\n",
            "40 0.6765558646507153\n",
            "41 0.5531468148529024\n",
            "42 0.5368130444465404\n",
            "43 0.8695302919102141\n",
            "44 0.999817789442579\n",
            "45 0.48654540611476915\n",
            "46 0.7835643197447015\n",
            "47 0.7518707430166252\n",
            "48 0.9170391392994058\n",
            "49 0.07144578846499039\n",
            "50 0.8299972321035973\n",
            "51 0.2634330165114499\n",
            "52 0.6152214603777534\n",
            "53 0.8764636457760687\n",
            "54 0.6819507013725195\n",
            "55 0.1531697773961146\n",
            "56 0.39985253536627263\n",
            "57 0.8257687790059773\n",
            "58 0.5422491285396348\n",
            "59 0.4521510821620731\n",
            "60 0.7773708148113851\n",
            "61 0.4648220497306791\n",
            "62 0.9499699335087054\n",
            "63 0.1382658772141403\n",
            "64 0.3063167665008557\n",
            "65 0.9510913603094728\n",
            "66 0.6709347885426665\n",
            "67 0.9867422164631421\n",
            "68 0.3885736417239235\n",
            "69 0.5752091603176634\n",
            "70 0.195398526010098\n",
            "71 0.12893231187469822\n",
            "72 0.9420846857487529\n",
            "73 0.15315479041578595\n",
            "74 0.7154249624957456\n",
            "75 0.04209925719202923\n",
            "76 0.9818052255451537\n",
            "77 0.9449641480729009\n",
            "78 0.05119077644962666\n",
            "79 0.6887752580610682\n",
            "80 0.18448963996441903\n",
            "81 0.7553251223555568\n",
            "82 0.9850141241275333\n",
            "83 0.4734350521637023\n",
            "84 0.7363189437750811\n",
            "85 0.9302923806246173\n",
            "86 0.013013166100784623\n",
            "87 0.8959126072884386\n",
            "88 0.5704335608143007\n",
            "89 0.5346194776666529\n",
            "90 0.25932110580854884\n",
            "91 0.6762547626106635\n",
            "92 0.6112822224299844\n",
            "93 0.021642619631737747\n",
            "94 0.3865201693123411\n",
            "95 0.4310039435339329\n",
            "96 0.0015178024912283483\n",
            "97 0.3103118929119405\n",
            "98 0.018748689176141475\n",
            "99 0.11998767037292124\n"
          ]
        }
      ]
    },
    {
      "cell_type": "code",
      "source": [
        "for i in range(10):\n",
        "  print(i,np.random.random())"
      ],
      "metadata": {
        "colab": {
          "base_uri": "https://localhost:8080/"
        },
        "id": "rvnAs25c9Han",
        "outputId": "9f31f1b8-65b6-4e65-8c2e-a5f38b9e4161"
      },
      "execution_count": null,
      "outputs": [
        {
          "output_type": "stream",
          "name": "stdout",
          "text": [
            "0 0.8740334474338427\n",
            "1 0.009599673224650718\n",
            "2 0.007861760668950613\n",
            "3 0.19955501069036918\n",
            "4 0.8611715338335141\n",
            "5 0.17201691413293774\n",
            "6 0.8418784332783723\n",
            "7 0.004813999350918641\n",
            "8 0.6658873625309591\n",
            "9 0.015522960596699331\n"
          ]
        }
      ]
    },
    {
      "cell_type": "code",
      "source": [
        "for apple in range(10):\n",
        "  print(apple,np.random.random()) #doesnt matter what you put it for"
      ],
      "metadata": {
        "colab": {
          "base_uri": "https://localhost:8080/"
        },
        "id": "dZZAwWwV9WLH",
        "outputId": "7c3f3bb8-158f-4d68-8065-4ed08a97fc6f"
      },
      "execution_count": null,
      "outputs": [
        {
          "output_type": "stream",
          "name": "stdout",
          "text": [
            "0 0.652950918018193\n",
            "1 0.4109986979092992\n",
            "2 0.9157959087378765\n",
            "3 0.1692102063675749\n",
            "4 0.19158454335679487\n",
            "5 0.7035758203575891\n",
            "6 0.36459525700056883\n",
            "7 0.823578939032888\n",
            "8 0.5529966921168975\n",
            "9 0.34870526086915143\n"
          ]
        }
      ]
    },
    {
      "cell_type": "code",
      "source": [
        "for step in range(10):\n",
        "  print(step, \"Hello your number is:\", np.random.random())"
      ],
      "metadata": {
        "colab": {
          "base_uri": "https://localhost:8080/"
        },
        "id": "XObDPHHo9wkn",
        "outputId": "aaf7158d-79d0-46f1-df9f-9b01793d9af0"
      },
      "execution_count": null,
      "outputs": [
        {
          "output_type": "stream",
          "name": "stdout",
          "text": [
            "0 Hello your number is: 0.7997883288894381\n",
            "1 Hello your number is: 0.13896162164985382\n",
            "2 Hello your number is: 0.5139324327951683\n",
            "3 Hello your number is: 0.543174876332807\n",
            "4 Hello your number is: 0.42111978930787675\n",
            "5 Hello your number is: 0.22492468273081645\n",
            "6 Hello your number is: 0.4789684085135778\n",
            "7 Hello your number is: 0.24419727024417692\n",
            "8 Hello your number is: 0.36552177766417837\n",
            "9 Hello your number is: 0.6578943591531563\n"
          ]
        }
      ]
    },
    {
      "cell_type": "code",
      "source": [
        "np.random.random() #first get a random number"
      ],
      "metadata": {
        "colab": {
          "base_uri": "https://localhost:8080/"
        },
        "id": "DIUDKBpo93vL",
        "outputId": "e0290514-f4fc-4f52-e6a6-dbeabbf9afe5"
      },
      "execution_count": null,
      "outputs": [
        {
          "output_type": "execute_result",
          "data": {
            "text/plain": [
              "0.9394804236531208"
            ]
          },
          "metadata": {},
          "execution_count": 66
        }
      ]
    },
    {
      "cell_type": "code",
      "source": [
        "np.random.random() >0.5"
      ],
      "metadata": {
        "colab": {
          "base_uri": "https://localhost:8080/"
        },
        "id": "ifmJuTOL-P2X",
        "outputId": "5b9bcbb0-de1e-402e-e1bb-f01294191ab2"
      },
      "execution_count": null,
      "outputs": [
        {
          "output_type": "execute_result",
          "data": {
            "text/plain": [
              "True"
            ]
          },
          "metadata": {},
          "execution_count": 67
        }
      ]
    },
    {
      "cell_type": "code",
      "source": [
        "for flip in range(10):\n",
        "    print(np.random.random() > 0.5)"
      ],
      "metadata": {
        "colab": {
          "base_uri": "https://localhost:8080/"
        },
        "id": "s07yYXQb-Xia",
        "outputId": "e3718938-eb25-479f-f6ef-84d28fc16353"
      },
      "execution_count": null,
      "outputs": [
        {
          "output_type": "stream",
          "name": "stdout",
          "text": [
            "False\n",
            "True\n",
            "False\n",
            "False\n",
            "True\n",
            "False\n",
            "False\n",
            "False\n",
            "True\n",
            "False\n"
          ]
        }
      ]
    },
    {
      "cell_type": "code",
      "source": [
        "for flip in range(10):\n",
        "    coin = np.random.random() > 0.5\n",
        "    if coin ==True:\n",
        "        print(\"Heads\")\n",
        "    else:\n",
        "        print(\"Tails\")"
      ],
      "metadata": {
        "colab": {
          "base_uri": "https://localhost:8080/"
        },
        "id": "I8USRbdf-hXZ",
        "outputId": "f5959503-b5f1-4f10-88e6-b0c7ab67f050"
      },
      "execution_count": null,
      "outputs": [
        {
          "output_type": "stream",
          "name": "stdout",
          "text": [
            "Tails\n",
            "Heads\n",
            "Heads\n",
            "Heads\n",
            "Heads\n",
            "Heads\n",
            "Heads\n",
            "Heads\n",
            "Heads\n",
            "Heads\n"
          ]
        }
      ]
    },
    {
      "cell_type": "markdown",
      "source": [
        "#Creating Functions"
      ],
      "metadata": {
        "id": "WPnadgEyAzka"
      }
    },
    {
      "cell_type": "code",
      "source": [
        "def flip_coin():  #when creating a function, always use (), even when you are not putting any information in\n",
        "  coin = np.random.random() > 0.5\n",
        "  if coin ==True:\n",
        "    print(\"Heads\")\n",
        "  else:\n",
        "    print(\"Tails\")"
      ],
      "metadata": {
        "id": "0q6Y8ILm_2M3"
      },
      "execution_count": null,
      "outputs": []
    },
    {
      "cell_type": "code",
      "source": [
        "flip_coin()"
      ],
      "metadata": {
        "colab": {
          "base_uri": "https://localhost:8080/"
        },
        "id": "75GA72ICA4Iq",
        "outputId": "2e97f0bd-77f9-480f-8701-ce228ba1c6fb"
      },
      "execution_count": null,
      "outputs": [
        {
          "output_type": "stream",
          "name": "stdout",
          "text": [
            "Tails\n"
          ]
        }
      ]
    },
    {
      "cell_type": "code",
      "source": [
        "for i in range(10):\n",
        "    flip_coin()"
      ],
      "metadata": {
        "colab": {
          "base_uri": "https://localhost:8080/"
        },
        "id": "3tDufByIBu0i",
        "outputId": "f2fed97f-c04c-4ddc-8a69-ef58fe5f382f"
      },
      "execution_count": null,
      "outputs": [
        {
          "output_type": "stream",
          "name": "stdout",
          "text": [
            "Heads\n",
            "Heads\n",
            "Heads\n",
            "Heads\n",
            "Heads\n",
            "Tails\n",
            "Tails\n",
            "Tails\n",
            "Tails\n",
            "Heads\n"
          ]
        }
      ]
    },
    {
      "cell_type": "markdown",
      "source": [
        "#Graphics"
      ],
      "metadata": {
        "id": "TYQC4UPXCgMQ"
      }
    },
    {
      "cell_type": "code",
      "source": [
        "from IPython.core.display import display, HTML"
      ],
      "metadata": {
        "id": "664EIcRACeGm"
      },
      "execution_count": null,
      "outputs": []
    },
    {
      "cell_type": "code",
      "source": [
        "display(HTML('<h1>Hello World<h1>'))  #h1 is a heading tag"
      ],
      "metadata": {
        "colab": {
          "base_uri": "https://localhost:8080/",
          "height": 89
        },
        "id": "EIoBbR8oCkEb",
        "outputId": "b0e48b10-8191-416b-f447-981d4b53906d"
      },
      "execution_count": null,
      "outputs": [
        {
          "output_type": "display_data",
          "data": {
            "text/plain": [
              "<IPython.core.display.HTML object>"
            ],
            "text/html": [
              "<h1>Hello World<h1>"
            ]
          },
          "metadata": {}
        }
      ]
    },
    {
      "cell_type": "code",
      "source": [
        "np.random.randint(2) #tells the system to make a integer up to 2, but not 2 itself"
      ],
      "metadata": {
        "colab": {
          "base_uri": "https://localhost:8080/"
        },
        "id": "WQFSJzwa52MS",
        "outputId": "5be73ed6-e94a-4bc3-d377-efe834e60d35"
      },
      "execution_count": null,
      "outputs": [
        {
          "output_type": "execute_result",
          "data": {
            "text/plain": [
              "0"
            ]
          },
          "metadata": {},
          "execution_count": 75
        }
      ]
    },
    {
      "cell_type": "code",
      "source": [
        "np.random.random() #tells the system to make a random number, with no restrictions"
      ],
      "metadata": {
        "colab": {
          "base_uri": "https://localhost:8080/"
        },
        "id": "GHRtGOUx52JL",
        "outputId": "06eccd07-1442-4943-d0d0-e1b41d94ea65"
      },
      "execution_count": null,
      "outputs": [
        {
          "output_type": "execute_result",
          "data": {
            "text/plain": [
              "0.9408995078236506"
            ]
          },
          "metadata": {},
          "execution_count": 76
        }
      ]
    },
    {
      "cell_type": "code",
      "source": [
        "coin_heads_url = \"https://bjc.edc.org/June2017/bjc-r/img/5-algorithms/img_flipping-a-coin/Heads.png\" #inputing our images into the system"
      ],
      "metadata": {
        "id": "AIFGN6mfCv8s"
      },
      "execution_count": null,
      "outputs": []
    },
    {
      "cell_type": "code",
      "source": [
        "coin_tails_url = \"https://bjc.edc.org/June2017/bjc-r/img/5-algorithms/img_flipping-a-coin/Tails.png\""
      ],
      "metadata": {
        "id": "UmpF2ss3Dhg8"
      },
      "execution_count": null,
      "outputs": []
    },
    {
      "cell_type": "code",
      "source": [
        "display(HTML('<img src=\"https://bjc.edc.org/June2017/bjc-r/img/5-algorithms/img_flipping-a-coin/Heads.png\">')) #check if the image works"
      ],
      "metadata": {
        "colab": {
          "base_uri": "https://localhost:8080/",
          "height": 383
        },
        "id": "YWNZwOpoD_2c",
        "outputId": "1f361146-07eb-4dc1-ec22-f22975f4d6ff"
      },
      "execution_count": null,
      "outputs": [
        {
          "output_type": "display_data",
          "data": {
            "text/plain": [
              "<IPython.core.display.HTML object>"
            ],
            "text/html": [
              "<img src=\"https://bjc.edc.org/June2017/bjc-r/img/5-algorithms/img_flipping-a-coin/Heads.png\">"
            ]
          },
          "metadata": {}
        }
      ]
    },
    {
      "cell_type": "code",
      "source": [
        "display(HTML('<img src=\"https://bjc.edc.org/June2017/bjc-r/img/5-algorithms/img_flipping-a-coin/Tails.png\">'))"
      ],
      "metadata": {
        "colab": {
          "base_uri": "https://localhost:8080/",
          "height": 385
        },
        "id": "VZusQmKIEVOu",
        "outputId": "3ca168e0-d67e-4818-b2c6-6df286aecf27"
      },
      "execution_count": null,
      "outputs": [
        {
          "output_type": "display_data",
          "data": {
            "text/plain": [
              "<IPython.core.display.HTML object>"
            ],
            "text/html": [
              "<img src=\"https://bjc.edc.org/June2017/bjc-r/img/5-algorithms/img_flipping-a-coin/Tails.png\">"
            ]
          },
          "metadata": {}
        }
      ]
    },
    {
      "cell_type": "code",
      "source": [
        "def show_img(img_url):\n",
        "    display(HTML('<img src=' + img_url + ' width = 100>'))"
      ],
      "metadata": {
        "id": "A4zo--ZKEbWO"
      },
      "execution_count": null,
      "outputs": []
    },
    {
      "cell_type": "code",
      "source": [
        "show_img(coin_heads_url)"
      ],
      "metadata": {
        "colab": {
          "base_uri": "https://localhost:8080/",
          "height": 121
        },
        "id": "dvB-nhA_FFd_",
        "outputId": "4294aa6e-363b-4e3d-c5a0-7d877d807e30"
      },
      "execution_count": null,
      "outputs": [
        {
          "output_type": "display_data",
          "data": {
            "text/plain": [
              "<IPython.core.display.HTML object>"
            ],
            "text/html": [
              "<img src=https://bjc.edc.org/June2017/bjc-r/img/5-algorithms/img_flipping-a-coin/Heads.png width = 100>"
            ]
          },
          "metadata": {}
        }
      ]
    },
    {
      "cell_type": "code",
      "source": [
        "show_img(coin_tails_url)"
      ],
      "metadata": {
        "colab": {
          "base_uri": "https://localhost:8080/",
          "height": 121
        },
        "id": "WULShj_hFQ1U",
        "outputId": "125528da-199f-46d7-8853-60ffb8816ee9"
      },
      "execution_count": null,
      "outputs": [
        {
          "output_type": "display_data",
          "data": {
            "text/plain": [
              "<IPython.core.display.HTML object>"
            ],
            "text/html": [
              "<img src=https://bjc.edc.org/June2017/bjc-r/img/5-algorithms/img_flipping-a-coin/Tails.png width = 100>"
            ]
          },
          "metadata": {}
        }
      ]
    },
    {
      "cell_type": "code",
      "source": [
        "def flip_coin():\n",
        "    if np.random.random() > 0.5:\n",
        "        show_img(coin_heads_url)\n",
        "    else:\n",
        "        show_img(coin_tails_url)"
      ],
      "metadata": {
        "id": "Gs09Bnv4IHPC"
      },
      "execution_count": null,
      "outputs": []
    },
    {
      "cell_type": "code",
      "source": [
        "flip_coin()"
      ],
      "metadata": {
        "colab": {
          "base_uri": "https://localhost:8080/",
          "height": 121
        },
        "id": "Bnv1gxJwIX6j",
        "outputId": "dc8bc9b2-f4d7-4000-a057-aefe4447e5dc"
      },
      "execution_count": null,
      "outputs": [
        {
          "output_type": "display_data",
          "data": {
            "text/plain": [
              "<IPython.core.display.HTML object>"
            ],
            "text/html": [
              "<img src=https://bjc.edc.org/June2017/bjc-r/img/5-algorithms/img_flipping-a-coin/Heads.png width = 100>"
            ]
          },
          "metadata": {}
        }
      ]
    },
    {
      "cell_type": "code",
      "source": [
        "def coin():\n",
        "  return np.random.randint(2)"
      ],
      "metadata": {
        "id": "jHipYQysEAgp"
      },
      "execution_count": null,
      "outputs": []
    },
    {
      "cell_type": "code",
      "source": [
        "def flip_coin(): \n",
        "    result=coin()\n",
        "    print(result)\n",
        "    if result == 1:\n",
        "        show_img(coin_heads_url)\n",
        "    else:\n",
        "        show_img(coin_tails_url)"
      ],
      "metadata": {
        "id": "ny75JlV3_N-D"
      },
      "execution_count": null,
      "outputs": []
    },
    {
      "cell_type": "code",
      "source": [
        "flip_coin()"
      ],
      "metadata": {
        "colab": {
          "base_uri": "https://localhost:8080/",
          "height": 138
        },
        "id": "b5dnc5NyAezV",
        "outputId": "2a1c848e-9038-48ae-9152-651d6083c58a"
      },
      "execution_count": null,
      "outputs": [
        {
          "output_type": "stream",
          "name": "stdout",
          "text": [
            "0\n"
          ]
        },
        {
          "output_type": "display_data",
          "data": {
            "text/plain": [
              "<IPython.core.display.HTML object>"
            ],
            "text/html": [
              "<img src=https://bjc.edc.org/June2017/bjc-r/img/5-algorithms/img_flipping-a-coin/Tails.png width = 100>"
            ]
          },
          "metadata": {}
        }
      ]
    }
  ]
}