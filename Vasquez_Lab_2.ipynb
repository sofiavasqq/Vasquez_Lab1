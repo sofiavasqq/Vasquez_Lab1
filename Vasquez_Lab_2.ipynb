{
  "nbformat": 4,
  "nbformat_minor": 0,
  "metadata": {
    "colab": {
      "provenance": [],
      "collapsed_sections": [],
      "authorship_tag": "ABX9TyMqSrdrUgd+zPSxUUGAY/uf",
      "include_colab_link": true
    },
    "kernelspec": {
      "name": "python3",
      "display_name": "Python 3"
    },
    "language_info": {
      "name": "python"
    }
  },
  "cells": [
    {
      "cell_type": "markdown",
      "metadata": {
        "id": "view-in-github",
        "colab_type": "text"
      },
      "source": [
        "<a href=\"https://colab.research.google.com/github/sofiavasqq/Vasquez_Labs/blob/main/Vasquez_Lab_2.ipynb\" target=\"_parent\"><img src=\"https://colab.research.google.com/assets/colab-badge.svg\" alt=\"Open In Colab\"/></a>"
      ]
    },
    {
      "cell_type": "markdown",
      "source": [
        "#Lab #2 Notebook"
      ],
      "metadata": {
        "id": "fLnfiqx8yGAm"
      }
    },
    {
      "cell_type": "markdown",
      "source": [
        "#Making Pie Charts"
      ],
      "metadata": {
        "id": "4Gr_m0Ra1TNU"
      }
    },
    {
      "cell_type": "code",
      "source": [
        "import matplotlib.pyplot as plt\n",
        "\n",
        "labels = ['Frogs', 'Dogs', 'Cats', 'Birds'] #controls what each part of the chart is labeled\n",
        "\n",
        "sizes= [15,30,45,10] #controls how large the percent of each label is in the graph\n",
        "\n",
        "explode=(0,0.1,0,0) #controls how far apart you want to the chart to be(0 being the closest)\n",
        "\n",
        "fig1,ax1 = plt.subplots()\n",
        "ax1.pie(sizes,\n",
        "        explode=explode, \n",
        "        labels =labels, \n",
        "        autopct='%1.1f%%',\n",
        "        shadow=True,   #controls if you want a shadow or not\n",
        "        startangle=90)\n",
        "ax1.axis('equal')"
      ],
      "metadata": {
        "colab": {
          "base_uri": "https://localhost:8080/",
          "height": 317
        },
        "id": "YSM3kTo11emt",
        "outputId": "46ed1b70-22a4-4e69-c7ad-b12e86860831"
      },
      "execution_count": null,
      "outputs": [
        {
          "output_type": "execute_result",
          "data": {
            "text/plain": [
              "(-1.2142507666786346,\n",
              " 1.134711077927507,\n",
              " -1.1258468317413044,\n",
              " 1.101230806657754)"
            ]
          },
          "metadata": {},
          "execution_count": 35
        },
        {
          "output_type": "display_data",
          "data": {
            "text/plain": [
              "<Figure size 432x288 with 1 Axes>"
            ],
            "image/png": "[encoded data removed]"
          },
          "metadata": {}
        }
      ]
    },
    {
      "cell_type": "code",
      "source": [
        "import matplotlib.pyplot as plt\n",
        "\n",
        "labels = ['Pitbulls', 'Golden Retrivers', 'Pugs', 'Cockerspaniels']\n",
        "\n",
        "sizes= [25,25,25,25]\n",
        "\n",
        "explode=(0,1,2,3) \n",
        "\n",
        "fig1,ax1 = plt.subplots()\n",
        "ax1.pie(sizes,\n",
        "        explode=explode, \n",
        "        labels =labels, \n",
        "        autopct='%1.1f%%',\n",
        "        shadow=False,\n",
        "        startangle=90)\n",
        "ax1.axis('equal')"
      ],
      "metadata": {
        "colab": {
          "base_uri": "https://localhost:8080/",
          "height": 317
        },
        "id": "NfgAtwUi2Pq8",
        "outputId": "42ad0fbe-68d9-4e45-8453-e3f28385c08c"
      },
      "execution_count": null,
      "outputs": [
        {
          "output_type": "execute_result",
          "data": {
            "text/plain": [
              "(-1.9485281374238572,\n",
              " 3.3627416997969526,\n",
              " -2.6909902576697324,\n",
              " 3.398097038856279)"
            ]
          },
          "metadata": {},
          "execution_count": 34
        },
        {
          "output_type": "display_data",
          "data": {
            "text/plain": [
              "<Figure size 432x288 with 1 Axes>"
            ],
            "image/png": "[encoded data removed]"
          },
          "metadata": {}
        }
      ]
    },
    {
      "cell_type": "markdown",
      "source": [
        "#Making f Strings"
      ],
      "metadata": {
        "id": "j7MhZWmz5KfK"
      }
    },
    {
      "cell_type": "code",
      "source": [
        "name= 'Sofia'"
      ],
      "metadata": {
        "id": "wm4BTyb65LtC"
      },
      "execution_count": null,
      "outputs": []
    },
    {
      "cell_type": "code",
      "source": [
        "name"
      ],
      "metadata": {
        "colab": {
          "base_uri": "https://localhost:8080/",
          "height": 35
        },
        "id": "GQaaB3805Nqz",
        "outputId": "4bcffb8f-204f-4cae-e74a-aca584917690"
      },
      "execution_count": null,
      "outputs": [
        {
          "output_type": "execute_result",
          "data": {
            "text/plain": [
              "'Sofia'"
            ],
            "application/vnd.google.colaboratory.intrinsic+json": {
              "type": "string"
            }
          },
          "metadata": {},
          "execution_count": 37
        }
      ]
    },
    {
      "cell_type": "code",
      "source": [
        "f\"Hello my name is {name}\""
      ],
      "metadata": {
        "colab": {
          "base_uri": "https://localhost:8080/",
          "height": 35
        },
        "id": "s9QCbDeW5OAy",
        "outputId": "9d4f3fb0-a9b9-45d3-84e1-9b4131c6c694"
      },
      "execution_count": null,
      "outputs": [
        {
          "output_type": "execute_result",
          "data": {
            "text/plain": [
              "'Hello my name is Sofia'"
            ],
            "application/vnd.google.colaboratory.intrinsic+json": {
              "type": "string"
            }
          },
          "metadata": {},
          "execution_count": 39
        }
      ]
    },
    {
      "cell_type": "markdown",
      "source": [
        "#Files"
      ],
      "metadata": {
        "id": "zQkdHaUt5YBS"
      }
    },
    {
      "cell_type": "code",
      "source": [
        "f = open(\"Hello.txt\",'w') \n",
        "\n",
        "data= \"Hello World\" #the text put in between the \"\" is what will be put into the doc\n",
        "\n",
        "print(data, file = f) \n",
        "\n",
        "f.close()  #after running the command, the file will appear in the folder icon in the upper left hand corner"
      ],
      "metadata": {
        "id": "abtsKNsk5nyx"
      },
      "execution_count": null,
      "outputs": []
    },
    {
      "cell_type": "code",
      "source": [
        "f = open(\"Hello.txt\",'w')\n",
        "\n",
        "name= \"Sofia\"\n",
        "\n",
        "data= f\"Hello{name}\" \n",
        "\n",
        "print(data, file = f)\n",
        "\n",
        "f.close()"
      ],
      "metadata": {
        "id": "zrEXYHAF6UkC"
      },
      "execution_count": null,
      "outputs": []
    },
    {
      "cell_type": "code",
      "source": [
        "f = open(\"Hello.txt\", 'r')\n",
        "\n",
        "lines= f.readlines()\n",
        "\n",
        "print(lines)\n",
        "\n",
        "f.close()"
      ],
      "metadata": {
        "colab": {
          "base_uri": "https://localhost:8080/"
        },
        "id": "1JJVv2rQ7Tua",
        "outputId": "f1979493-cd83-48dc-dba0-fa901a29282c"
      },
      "execution_count": null,
      "outputs": [
        {
          "output_type": "stream",
          "name": "stdout",
          "text": [
            "['Hello World\\n']\n"
          ]
        }
      ]
    },
    {
      "cell_type": "markdown",
      "source": [
        "#Making a Coin Flipping System"
      ],
      "metadata": {
        "id": "_uDXdwrL8RD0"
      }
    },
    {
      "cell_type": "code",
      "source": [
        "import numpy as np"
      ],
      "metadata": {
        "id": "Ds6Tfnqs8TFD"
      },
      "execution_count": null,
      "outputs": []
    },
    {
      "cell_type": "code",
      "source": [
        "np.random.random() #a branch of codes that makes up a number between 0-1"
      ],
      "metadata": {
        "colab": {
          "base_uri": "https://localhost:8080/"
        },
        "id": "lO9vzgBF8Xaj",
        "outputId": "8741dda6-b1b5-4b9c-cc63-304fcd7fe7d9"
      },
      "execution_count": null,
      "outputs": [
        {
          "output_type": "execute_result",
          "data": {
            "text/plain": [
              "0.7062098227185172"
            ]
          },
          "metadata": {},
          "execution_count": 16
        }
      ]
    },
    {
      "cell_type": "code",
      "source": [
        "for index in range(10): print(index,np.random.random())"
      ],
      "metadata": {
        "colab": {
          "base_uri": "https://localhost:8080/"
        },
        "id": "IpKOhsAW8bdj",
        "outputId": "702e3a97-2fd8-47c3-828d-0d26c6ffce6c"
      },
      "execution_count": null,
      "outputs": [
        {
          "output_type": "stream",
          "name": "stdout",
          "text": [
            "0 0.47814485852099675\n",
            "1 0.7364325911154728\n",
            "2 0.42625926171623885\n",
            "3 0.3359314994264696\n",
            "4 0.8003407297698825\n",
            "5 0.05324870593921127\n",
            "6 0.8210981473543105\n",
            "7 0.615692807225844\n",
            "8 0.5435639981418373\n",
            "9 0.4638691823093073\n"
          ]
        }
      ]
    },
    {
      "cell_type": "code",
      "source": [
        "for index in range(100): print(index,np.random.random())"
      ],
      "metadata": {
        "colab": {
          "base_uri": "https://localhost:8080/"
        },
        "id": "8SYbNsv18yjl",
        "outputId": "09de4132-bca0-4bfe-eb94-0a1dff18555f"
      },
      "execution_count": null,
      "outputs": [
        {
          "output_type": "stream",
          "name": "stdout",
          "text": [
            "0 0.7370772411796302\n",
            "1 0.48241363277194715\n",
            "2 0.4600789366445249\n",
            "3 0.6161516036248151\n",
            "4 0.37743016381211414\n",
            "5 0.2229167547930132\n",
            "6 0.1563454024152029\n",
            "7 0.8865230065205714\n",
            "8 0.1774230678242542\n",
            "9 0.4855622966249675\n",
            "10 0.2755491918644879\n",
            "11 0.43459879402955703\n",
            "12 0.004130768170264476\n",
            "13 0.9618003939989803\n",
            "14 0.609364816103165\n",
            "15 0.8115751055731601\n",
            "16 0.3601422223720172\n",
            "17 0.9190323630061029\n",
            "18 0.9026290725934524\n",
            "19 0.8935206719064713\n",
            "20 0.9202029595005854\n",
            "21 0.3515368644181218\n",
            "22 0.01877540111399334\n",
            "23 0.4142024006596712\n",
            "24 0.1595625164031217\n",
            "25 0.010593201447608891\n",
            "26 0.4171004407241058\n",
            "27 0.7096265012552434\n",
            "28 0.8866814618262849\n",
            "29 0.044341900304502246\n",
            "30 0.2710922193805885\n",
            "31 0.21731902627395105\n",
            "32 0.25935388289714223\n",
            "33 0.5390398701381256\n",
            "34 0.5501098803728521\n",
            "35 0.5999200021030839\n",
            "36 0.8178349791498116\n",
            "37 0.9925137747219415\n",
            "38 0.7132515236466914\n",
            "39 0.25325328538793124\n",
            "40 0.12594092044379668\n",
            "41 0.45649858566055057\n",
            "42 0.5924302394281955\n",
            "43 0.8086049986695368\n",
            "44 0.8029472255454949\n",
            "45 0.7635107146309849\n",
            "46 0.47139350842283023\n",
            "47 0.7356826414020396\n",
            "48 0.02498946588849338\n",
            "49 0.9346156519574375\n",
            "50 0.6128686006500467\n",
            "51 0.9443826671774682\n",
            "52 0.12131014236356841\n",
            "53 0.08275021864309207\n",
            "54 0.5032245818547217\n",
            "55 0.8375929755516774\n",
            "56 0.2926727193387051\n",
            "57 0.4418797472498306\n",
            "58 0.2541768321866783\n",
            "59 0.20232370221556506\n",
            "60 0.36061118878982645\n",
            "61 0.6610341173368087\n",
            "62 0.9180364944592263\n",
            "63 0.6443589946214391\n",
            "64 0.321755088582536\n",
            "65 0.5556917179693962\n",
            "66 0.12794160380837738\n",
            "67 0.7432793458844612\n",
            "68 0.8833894230281091\n",
            "69 0.25485871832070195\n",
            "70 0.3527616002644153\n",
            "71 0.2419654569411026\n",
            "72 0.4009898078016657\n",
            "73 0.035387840749323995\n",
            "74 0.6557079042390836\n",
            "75 0.06159684614005645\n",
            "76 0.13027722737651237\n",
            "77 0.6135737176095901\n",
            "78 0.7774013735145918\n",
            "79 0.27365507843593606\n",
            "80 0.05568875372607385\n",
            "81 0.17345960870222643\n",
            "82 0.8503196491561245\n",
            "83 0.22457815088401245\n",
            "84 0.2144363563180015\n",
            "85 0.09956778210799822\n",
            "86 0.9950894049858569\n",
            "87 0.8484366966377808\n",
            "88 0.07947070556757552\n",
            "89 0.7797264131404995\n",
            "90 0.25314788541584743\n",
            "91 0.6896599893111368\n",
            "92 0.31699587965621545\n",
            "93 0.23808390741376662\n",
            "94 0.25445882545186793\n",
            "95 0.5798276730631812\n",
            "96 0.013349505498810754\n",
            "97 0.12156092783172545\n",
            "98 0.12831079170538628\n",
            "99 0.24110135092456364\n"
          ]
        }
      ]
    },
    {
      "cell_type": "code",
      "source": [
        "for i in range(10):\n",
        "  print(i,np.random.random())"
      ],
      "metadata": {
        "colab": {
          "base_uri": "https://localhost:8080/"
        },
        "id": "rvnAs25c9Han",
        "outputId": "bda3c133-a2e3-4d4c-8a4f-2036f323e1dd"
      },
      "execution_count": null,
      "outputs": [
        {
          "output_type": "stream",
          "name": "stdout",
          "text": [
            "0 0.016896657478768784\n",
            "1 0.3545874863417269\n",
            "2 0.30526338546950105\n",
            "3 0.32798443930124865\n",
            "4 0.1969661223925414\n",
            "5 0.12100574732991198\n",
            "6 0.787472830251745\n",
            "7 0.7218348011652425\n",
            "8 0.02377627185780462\n",
            "9 0.9682823997867827\n"
          ]
        }
      ]
    },
    {
      "cell_type": "code",
      "source": [
        "for apple in range(10):\n",
        "  print(apple,np.random.random()) #doesnt matter what you put it for"
      ],
      "metadata": {
        "colab": {
          "base_uri": "https://localhost:8080/"
        },
        "id": "dZZAwWwV9WLH",
        "outputId": "eeb05a9f-7d19-436a-a452-cfccc4d4d786"
      },
      "execution_count": null,
      "outputs": [
        {
          "output_type": "stream",
          "name": "stdout",
          "text": [
            "0 0.13911063493867748\n",
            "1 0.4389693824391375\n",
            "2 0.06041959201748237\n",
            "3 0.771647665362261\n",
            "4 0.14080855498716838\n",
            "5 0.16824346155991743\n",
            "6 0.24971425872962671\n",
            "7 0.7015486635433755\n",
            "8 0.7063236552239285\n",
            "9 0.344843482006708\n"
          ]
        }
      ]
    },
    {
      "cell_type": "code",
      "source": [
        "for step in range(10):\n",
        "  print(step, \"Hello your number is:\", np.random.random())"
      ],
      "metadata": {
        "colab": {
          "base_uri": "https://localhost:8080/"
        },
        "id": "XObDPHHo9wkn",
        "outputId": "479cb98a-3676-435b-ddc1-61db78fbac52"
      },
      "execution_count": null,
      "outputs": [
        {
          "output_type": "stream",
          "name": "stdout",
          "text": [
            "0 Hello your number is: 0.9206954181646918\n",
            "1 Hello your number is: 0.6055366467772509\n",
            "2 Hello your number is: 0.1758919729729147\n",
            "3 Hello your number is: 0.7496802896651321\n",
            "4 Hello your number is: 0.4077866717033175\n",
            "5 Hello your number is: 0.2353037057740388\n",
            "6 Hello your number is: 0.3712505923092382\n",
            "7 Hello your number is: 0.6913468080638842\n",
            "8 Hello your number is: 0.19431496828088501\n",
            "9 Hello your number is: 0.7250251000367929\n"
          ]
        }
      ]
    },
    {
      "cell_type": "code",
      "source": [
        "np.random.random() #first get a random number"
      ],
      "metadata": {
        "colab": {
          "base_uri": "https://localhost:8080/"
        },
        "id": "DIUDKBpo93vL",
        "outputId": "f9338295-9594-4a80-d5d5-262d29d97bf6"
      },
      "execution_count": null,
      "outputs": [
        {
          "output_type": "execute_result",
          "data": {
            "text/plain": [
              "0.07926869963778005"
            ]
          },
          "metadata": {},
          "execution_count": 22
        }
      ]
    },
    {
      "cell_type": "code",
      "source": [
        "np.random.random() >0.5"
      ],
      "metadata": {
        "colab": {
          "base_uri": "https://localhost:8080/"
        },
        "id": "ifmJuTOL-P2X",
        "outputId": "8cf17d3e-a810-4bc7-c8b5-c17a8f005435"
      },
      "execution_count": null,
      "outputs": [
        {
          "output_type": "execute_result",
          "data": {
            "text/plain": [
              "False"
            ]
          },
          "metadata": {},
          "execution_count": 23
        }
      ]
    },
    {
      "cell_type": "code",
      "source": [
        "for flip in range(10):\n",
        "    print(np.random.random() > 0.5)"
      ],
      "metadata": {
        "colab": {
          "base_uri": "https://localhost:8080/"
        },
        "id": "s07yYXQb-Xia",
        "outputId": "39a7adfb-3cd0-425a-a8a4-7f4d76f94755"
      },
      "execution_count": null,
      "outputs": [
        {
          "output_type": "stream",
          "name": "stdout",
          "text": [
            "False\n",
            "False\n",
            "False\n",
            "True\n",
            "False\n",
            "False\n",
            "True\n",
            "True\n",
            "False\n",
            "False\n"
          ]
        }
      ]
    },
    {
      "cell_type": "code",
      "source": [
        "for flip in range(10):\n",
        "    coin = np.random.random() > 0.5\n",
        "    if coin ==True:\n",
        "        print(\"Heads\")\n",
        "    else:\n",
        "        print(\"Tails\")"
      ],
      "metadata": {
        "colab": {
          "base_uri": "https://localhost:8080/"
        },
        "id": "I8USRbdf-hXZ",
        "outputId": "9a852c8d-9f1c-4d3f-cdbb-e38d0d6b1b64"
      },
      "execution_count": null,
      "outputs": [
        {
          "output_type": "stream",
          "name": "stdout",
          "text": [
            "Heads\n",
            "Heads\n",
            "Heads\n",
            "Tails\n",
            "Heads\n",
            "Tails\n",
            "Tails\n",
            "Heads\n",
            "Tails\n",
            "Tails\n"
          ]
        }
      ]
    },
    {
      "cell_type": "markdown",
      "source": [
        "#Creating Functions"
      ],
      "metadata": {
        "id": "WPnadgEyAzka"
      }
    },
    {
      "cell_type": "code",
      "source": [
        "def flip_coin():\n",
        "  coin = np.random.random() > 0.5\n",
        "  if coin ==True:\n",
        "    print(\"Heads\")\n",
        "  else:\n",
        "    print(\"Tails\")"
      ],
      "metadata": {
        "id": "0q6Y8ILm_2M3"
      },
      "execution_count": null,
      "outputs": []
    },
    {
      "cell_type": "code",
      "source": [
        "flip_coin()"
      ],
      "metadata": {
        "colab": {
          "base_uri": "https://localhost:8080/"
        },
        "id": "75GA72ICA4Iq",
        "outputId": "411ca881-e270-4450-d6c6-2aae4a7baad5"
      },
      "execution_count": null,
      "outputs": [
        {
          "output_type": "stream",
          "name": "stdout",
          "text": [
            "Heads\n"
          ]
        }
      ]
    },
    {
      "cell_type": "code",
      "source": [
        "for i in range(10):\n",
        "    flip_coin()"
      ],
      "metadata": {
        "colab": {
          "base_uri": "https://localhost:8080/"
        },
        "id": "3tDufByIBu0i",
        "outputId": "47f352f4-40b8-45cc-8077-ac1f9c4823e5"
      },
      "execution_count": null,
      "outputs": [
        {
          "output_type": "stream",
          "name": "stdout",
          "text": [
            "Heads\n",
            "Heads\n",
            "Tails\n",
            "Heads\n",
            "Tails\n",
            "Tails\n",
            "Heads\n",
            "Heads\n",
            "Tails\n",
            "Tails\n"
          ]
        }
      ]
    },
    {
      "cell_type": "markdown",
      "source": [
        "#Graphics"
      ],
      "metadata": {
        "id": "TYQC4UPXCgMQ"
      }
    },
    {
      "cell_type": "code",
      "source": [
        "from IPython.core.display import display, HTML"
      ],
      "metadata": {
        "id": "664EIcRACeGm"
      },
      "execution_count": null,
      "outputs": []
    },
    {
      "cell_type": "code",
      "source": [
        "display(HTML('<h1>Hello World<h1>'))"
      ],
      "metadata": {
        "colab": {
          "base_uri": "https://localhost:8080/",
          "height": 89
        },
        "id": "EIoBbR8oCkEb",
        "outputId": "e77bd21e-e224-4974-fd0b-99d500654f3f"
      },
      "execution_count": null,
      "outputs": [
        {
          "output_type": "display_data",
          "data": {
            "text/plain": [
              "<IPython.core.display.HTML object>"
            ],
            "text/html": [
              "<h1>Hello World<h1>"
            ]
          },
          "metadata": {}
        }
      ]
    },
    {
      "cell_type": "code",
      "source": [
        "coin_heads_url = \"https://bjc.edc.org/June2017/bjc-r/img/5-algorithms/img_flipping-a-coin/Heads.png\""
      ],
      "metadata": {
        "id": "AIFGN6mfCv8s"
      },
      "execution_count": null,
      "outputs": []
    },
    {
      "cell_type": "code",
      "source": [
        "coin_tails_url = \"https://bjc.edc.org/June2017/bjc-r/img/5-algorithms/img_flipping-a-coin/Tails.png\""
      ],
      "metadata": {
        "id": "UmpF2ss3Dhg8"
      },
      "execution_count": null,
      "outputs": []
    },
    {
      "cell_type": "code",
      "source": [
        "display(HTML('<img src=\"https://bjc.edc.org/June2017/bjc-r/img/5-algorithms/img_flipping-a-coin/Heads.png\">'))"
      ],
      "metadata": {
        "colab": {
          "base_uri": "https://localhost:8080/",
          "height": 383
        },
        "id": "YWNZwOpoD_2c",
        "outputId": "7a23e6ef-3b6a-41b4-dbd5-303d6d1a33d8"
      },
      "execution_count": null,
      "outputs": [
        {
          "output_type": "display_data",
          "data": {
            "text/plain": [
              "<IPython.core.display.HTML object>"
            ],
            "text/html": [
              "<img src=\"https://bjc.edc.org/June2017/bjc-r/img/5-algorithms/img_flipping-a-coin/Heads.png\">"
            ]
          },
          "metadata": {}
        }
      ]
    },
    {
      "cell_type": "code",
      "source": [
        "display(HTML('<img src=\"https://bjc.edc.org/June2017/bjc-r/img/5-algorithms/img_flipping-a-coin/Tails.png\">'))"
      ],
      "metadata": {
        "colab": {
          "base_uri": "https://localhost:8080/",
          "height": 385
        },
        "id": "VZusQmKIEVOu",
        "outputId": "e7201bfe-b8cc-448c-f924-6e992292a9e6"
      },
      "execution_count": null,
      "outputs": [
        {
          "output_type": "display_data",
          "data": {
            "text/plain": [
              "<IPython.core.display.HTML object>"
            ],
            "text/html": [
              "<img src=\"https://bjc.edc.org/June2017/bjc-r/img/5-algorithms/img_flipping-a-coin/Tails.png\">"
            ]
          },
          "metadata": {}
        }
      ]
    },
    {
      "cell_type": "code",
      "source": [
        "def show_img(img_url):\n",
        "    display(HTML('<img src=' + img_url + ' width = 100>'))"
      ],
      "metadata": {
        "id": "A4zo--ZKEbWO"
      },
      "execution_count": null,
      "outputs": []
    },
    {
      "cell_type": "code",
      "source": [
        "show_img(coin_heads_url)"
      ],
      "metadata": {
        "colab": {
          "base_uri": "https://localhost:8080/",
          "height": 121
        },
        "id": "dvB-nhA_FFd_",
        "outputId": "0a88b735-9f65-4751-d5d0-f28d62a0a668"
      },
      "execution_count": null,
      "outputs": [
        {
          "output_type": "display_data",
          "data": {
            "text/plain": [
              "<IPython.core.display.HTML object>"
            ],
            "text/html": [
              "<img src=https://bjc.edc.org/June2017/bjc-r/img/5-algorithms/img_flipping-a-coin/Heads.png width = 100>"
            ]
          },
          "metadata": {}
        }
      ]
    },
    {
      "cell_type": "code",
      "source": [
        "show_img(coin_tails_url)"
      ],
      "metadata": {
        "colab": {
          "base_uri": "https://localhost:8080/",
          "height": 121
        },
        "id": "WULShj_hFQ1U",
        "outputId": "ede4e002-89f6-411f-8bd9-a03f645dab3a"
      },
      "execution_count": null,
      "outputs": [
        {
          "output_type": "display_data",
          "data": {
            "text/plain": [
              "<IPython.core.display.HTML object>"
            ],
            "text/html": [
              "<img src=https://bjc.edc.org/June2017/bjc-r/img/5-algorithms/img_flipping-a-coin/Tails.png width = 100>"
            ]
          },
          "metadata": {}
        }
      ]
    },
    {
      "cell_type": "code",
      "source": [
        "def flip_coin():\n",
        "    if np.random.random() > 0.5:\n",
        "        show_img(coin_heads_url)\n",
        "    else:\n",
        "        show_img(coin_tails_url)"
      ],
      "metadata": {
        "id": "Gs09Bnv4IHPC"
      },
      "execution_count": null,
      "outputs": []
    },
    {
      "cell_type": "code",
      "source": [
        "flip_coin()"
      ],
      "metadata": {
        "colab": {
          "base_uri": "https://localhost:8080/",
          "height": 121
        },
        "id": "Bnv1gxJwIX6j",
        "outputId": "5a824eec-7c45-47c2-b3af-c38a2648074b"
      },
      "execution_count": null,
      "outputs": [
        {
          "output_type": "display_data",
          "data": {
            "text/plain": [
              "<IPython.core.display.HTML object>"
            ],
            "text/html": [
              "<img src=https://bjc.edc.org/June2017/bjc-r/img/5-algorithms/img_flipping-a-coin/Heads.png width = 100>"
            ]
          },
          "metadata": {}
        }
      ]
    }
  ]
}